{
 "cells": [
  {
   "cell_type": "code",
   "execution_count": 1,
   "id": "b5fcf042-1ac8-499d-89cf-a8d2f313ad65",
   "metadata": {},
   "outputs": [
    {
     "name": "stdout",
     "output_type": "stream",
     "text": [
      "(512, 688)\n",
      "1.0\n",
      "(512, 688, 4)\n"
     ]
    },
    {
     "data": {
      "text/plain": [
       "<pyqtgraph.imageview.ImageView.ImageView at 0x7f8cf03370d0>"
      ]
     },
     "execution_count": 1,
     "metadata": {},
     "output_type": "execute_result"
    }
   ],
   "source": [
    "%gui qt\n",
    "import os\n",
    "os.environ[\"QT_MAC_WANTS_LAYER\"] = \"1\"\n",
    "from pylibrary.tools import tifffile as TF\n",
    "from pathlib import Path\n",
    "import matplotlib.pyplot as mpl\n",
    "import numpy as np\n",
    "import pyqtgraph as pg\n",
    "\n",
    "rootpath = \"/Volumes/Pegasus_002/ManisLab_Data3/Kasten_Michael/Maness_Ank2_PFC_stim/mEPSCs\"\n",
    "daypath = Path(rootpath, \"2021.05.19_000/slice_001\", \"image_011.tif\")\n",
    "img = TF.imread(str(daypath))\n",
    "print(img.shape)\n",
    "immax = np.max(img)\n",
    "imgz = np.zeros_like(img)\n",
    "img3 = np.dstack((img/immax, img/immax, img/immax, np.ones_like(img)))\n",
    "\n",
    "# imsave('temp.tif', data, photometric='rgb')\n",
    "\n",
    "# img = Image.open(daypath)\n",
    "# img.point(lambda p: p*0.0039063096, mode='RGBA')\n",
    "# img = img.convert('RGBA')\n",
    "print(np.max(img3))\n",
    "print(img3.shape)\n",
    "# im = pg.image(img3, levelMode=\"rgba\")\n",
    "pg.show(img3, levelMode=\"rgba\")\n",
    "# mpl.imshow(img3/65536.)\n",
    "# img.show() # check it out!"
   ]
  },
  {
   "cell_type": "code",
   "execution_count": null,
   "id": "a0a50b6b-109a-424f-a303-fd15d41c69e2",
   "metadata": {},
   "outputs": [],
   "source": []
  }
 ],
 "metadata": {
  "kernelspec": {
   "display_name": "Python 3",
   "language": "python",
   "name": "python3"
  },
  "language_info": {
   "codemirror_mode": {
    "name": "ipython",
    "version": 3
   },
   "file_extension": ".py",
   "mimetype": "text/x-python",
   "name": "python",
   "nbconvert_exporter": "python",
   "pygments_lexer": "ipython3",
   "version": "3.8.6"
  }
 },
 "nbformat": 4,
 "nbformat_minor": 5
}
