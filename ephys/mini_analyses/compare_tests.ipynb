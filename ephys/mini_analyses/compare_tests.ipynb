{
 "cells": [
  {
   "cell_type": "code",
   "execution_count": 90,
   "id": "eight-trial",
   "metadata": {},
   "outputs": [
    {
     "name": "stdout",
     "output_type": "stream",
     "text": [
      "filename:  tests/test_data/AJ_python.pk\n",
      "filename:  tests/test_data/AJ_blank.pk\n",
      "             CB        ::    delta\n",
      "\n",
      "Repetition    0\n",
      "[3989, 10266, 14883, 18820, 21573, 26765, 29641, 40761, 57336, 59747, 67599, 71362, 75555, 88547, 88918, 89370, 89472, 98413, 105937, 116139, 135369, 143401, 146486, 154071, 154699, 159809, 160582, 175057, 178746, 181421, 182958, 190399, 193442, 197645, 197741, 202547, 207283, 212077, 226471, 232197, 234423, 237295, 243280, 243585, 249084, 254635, 255814, 256504, 258399, 260664, 264881, 267771, 290043, 290577, 291754, 292629, 297924, 299385, 302526, 303925, 304796, 305377, 310717, 311458, 312555, 314851, 323456, 323967, 333069, 333569, 352318, 355476, 374288, 378935, 385649, 385854, 387512, 388151, 389908, 390544, 392455, 395128, 395463, 401358, 405536, 407078, 410785, 411276, 415566, 428812, 430728, 436235, 436941, 443240, 444949, 445961, 450375, 450482, 459320]\n"
     ]
    },
    {
     "name": "stderr",
     "output_type": "stream",
     "text": [
      "/Users/pbmanis/Desktop/Python/ephys/ephys_venv/lib/python3.7/site-packages/ipykernel_launcher.py:19: VisibleDeprecationWarning: Creating an ndarray from ragged nested sequences (which is a list-or-tuple of lists-or-tuples-or ndarrays with different lengths or shapes) is deprecated. If you meant to do this, you must specify 'dtype=object' when creating the ndarray.\n"
     ]
    },
    {
     "ename": "TypeError",
     "evalue": "object of type 'numpy.int64' has no len()",
     "output_type": "error",
     "traceback": [
      "\u001b[0;31m---------------------------------------------------------------------------\u001b[0m",
      "\u001b[0;31mTypeError\u001b[0m                                 Traceback (most recent call last)",
      "\u001b[0;32m<ipython-input-90-240b7a9297b0>\u001b[0m in \u001b[0;36m<module>\u001b[0;34m\u001b[0m\n\u001b[1;32m     47\u001b[0m \u001b[0;34m\u001b[0m\u001b[0m\n\u001b[1;32m     48\u001b[0m \u001b[0;32mfor\u001b[0m \u001b[0mn\u001b[0m \u001b[0;32min\u001b[0m \u001b[0mrange\u001b[0m\u001b[0;34m(\u001b[0m\u001b[0mnreps\u001b[0m\u001b[0;34m)\u001b[0m\u001b[0;34m:\u001b[0m\u001b[0;34m\u001b[0m\u001b[0;34m\u001b[0m\u001b[0m\n\u001b[0;32m---> 49\u001b[0;31m     \u001b[0mcompare\u001b[0m\u001b[0;34m(\u001b[0m\u001b[0md\u001b[0m\u001b[0;34m,\u001b[0m \u001b[0mn\u001b[0m\u001b[0;34m)\u001b[0m\u001b[0;34m\u001b[0m\u001b[0;34m\u001b[0m\u001b[0m\n\u001b[0m",
      "\u001b[0;32m<ipython-input-90-240b7a9297b0>\u001b[0m in \u001b[0;36mcompare\u001b[0;34m(din, rep)\u001b[0m\n\u001b[1;32m     28\u001b[0m     \u001b[0md1\u001b[0m \u001b[0;34m=\u001b[0m \u001b[0mdin\u001b[0m\u001b[0;34m[\u001b[0m\u001b[0;36m1\u001b[0m\u001b[0;34m]\u001b[0m\u001b[0;34m[\u001b[0m\u001b[0mrep\u001b[0m\u001b[0;34m]\u001b[0m\u001b[0;34m\u001b[0m\u001b[0;34m\u001b[0m\u001b[0m\n\u001b[1;32m     29\u001b[0m     \u001b[0mprint\u001b[0m\u001b[0;34m(\u001b[0m\u001b[0md0\u001b[0m\u001b[0;34m)\u001b[0m\u001b[0;34m\u001b[0m\u001b[0;34m\u001b[0m\u001b[0m\n\u001b[0;32m---> 30\u001b[0;31m     \u001b[0mdfill\u001b[0m \u001b[0;34m=\u001b[0m \u001b[0mnp\u001b[0m\u001b[0;34m.\u001b[0m\u001b[0mzeros\u001b[0m\u001b[0;34m(\u001b[0m\u001b[0mmax\u001b[0m\u001b[0;34m(\u001b[0m\u001b[0mlen\u001b[0m\u001b[0;34m(\u001b[0m\u001b[0md0\u001b[0m\u001b[0;34m)\u001b[0m\u001b[0;34m,\u001b[0m \u001b[0mlen\u001b[0m\u001b[0;34m(\u001b[0m\u001b[0md1\u001b[0m\u001b[0;34m)\u001b[0m\u001b[0;34m)\u001b[0m\u001b[0;34m)\u001b[0m\u001b[0;34m.\u001b[0m\u001b[0mastype\u001b[0m\u001b[0;34m(\u001b[0m\u001b[0;34m'int64'\u001b[0m\u001b[0;34m)\u001b[0m\u001b[0;34m\u001b[0m\u001b[0;34m\u001b[0m\u001b[0m\n\u001b[0m\u001b[1;32m     31\u001b[0m     \u001b[0;32mfor\u001b[0m \u001b[0mi\u001b[0m \u001b[0;32min\u001b[0m \u001b[0mrange\u001b[0m\u001b[0;34m(\u001b[0m\u001b[0mlen\u001b[0m\u001b[0;34m(\u001b[0m\u001b[0md0\u001b[0m\u001b[0;34m)\u001b[0m\u001b[0;34m)\u001b[0m\u001b[0;34m:\u001b[0m\u001b[0;34m\u001b[0m\u001b[0;34m\u001b[0m\u001b[0m\n\u001b[1;32m     32\u001b[0m         \u001b[0mu\u001b[0m \u001b[0;34m=\u001b[0m \u001b[0mnp\u001b[0m\u001b[0;34m.\u001b[0m\u001b[0margmin\u001b[0m\u001b[0;34m(\u001b[0m\u001b[0mnp\u001b[0m\u001b[0;34m.\u001b[0m\u001b[0mfabs\u001b[0m\u001b[0;34m(\u001b[0m\u001b[0md0\u001b[0m\u001b[0;34m[\u001b[0m\u001b[0mi\u001b[0m\u001b[0;34m]\u001b[0m \u001b[0;34m-\u001b[0m \u001b[0md1\u001b[0m\u001b[0;34m)\u001b[0m\u001b[0;34m)\u001b[0m\u001b[0;34m\u001b[0m\u001b[0;34m\u001b[0m\u001b[0m\n",
      "\u001b[0;31mTypeError\u001b[0m: object of type 'numpy.int64' has no len()"
     ]
    }
   ],
   "source": [
    "import pickle\n",
    "import numpy as np\n",
    "from pylibrary.tools.cprint import cprint\n",
    "from pathlib import Path\n",
    "\n",
    "CP = cprint\n",
    "\n",
    "algorithms = ['python', 'blank']\n",
    "methods = ['AJ']\n",
    "\n",
    "top_path = Path(\"tests/test_data\")\n",
    "\n",
    "d = [[]]*len(algorithms)\n",
    "for ialg, alg in enumerate(algorithms):\n",
    "    method = methods[0]\n",
    "    filename = Path(top_path, f\"{method:s}_{alg:s}.pk\")\n",
    "    with open(filename, \"rb\") as fh:\n",
    "        print('filename: ', filename)\n",
    "        d[ialg] = np.array(pickle.load(fh, encoding='latin1')['onsets'])\n",
    "#         print(d[ialg])\n",
    "\n",
    "print(f\"{'':>8s} {' ':3s} {'CB':<8s}  :: {'delta':>8s}\")\n",
    "nreps = len(d[0])\n",
    "\n",
    "def compare(din, rep):\n",
    "    print(f\"\\nRepetition {rep:4d}\")\n",
    "    d0 = din[0][rep]\n",
    "    d1 = din[1][rep]\n",
    "    print(d0)\n",
    "    dfill = np.zeros(max(len(d0), len(d1))).astype('int64')\n",
    "    for i in range(len(d0)):\n",
    "        u = np.argmin(np.fabs(d0[i] - d1))\n",
    "        dfill[i] = d1[u]  # for the ith entry find the closest\n",
    "        if np.fabs(d0[i]-dfill[i]) > 2:\n",
    "            mrk = '#'\n",
    "            if d0[i] > dfill[i]:\n",
    "                c = 'r'\n",
    "            else:\n",
    "                c = 'm'\n",
    "        else:\n",
    "            mrk = '='\n",
    "            c = 'g'\n",
    "        if (dfill[i] in dfill[:i]) and i != 0:\n",
    "            c = 'b'\n",
    "        delta = d0[i] - dfill[i]\n",
    "        cprint(c, f\"{d0[i]:8d} {mrk:^3s} {dfill[i]:<8d}  :: {delta:8d}\")\n",
    "\n",
    "for n in range(nreps):\n",
    "    compare(d, n)\n"
   ]
  },
  {
   "cell_type": "code",
   "execution_count": null,
   "id": "incorrect-lotus",
   "metadata": {},
   "outputs": [],
   "source": []
  }
 ],
 "metadata": {
  "kernelspec": {
   "display_name": "Python 3",
   "language": "python",
   "name": "python3"
  },
  "language_info": {
   "codemirror_mode": {
    "name": "ipython",
    "version": 3
   },
   "file_extension": ".py",
   "mimetype": "text/x-python",
   "name": "python",
   "nbconvert_exporter": "python",
   "pygments_lexer": "ipython3",
   "version": "3.7.9"
  }
 },
 "nbformat": 4,
 "nbformat_minor": 5
}
